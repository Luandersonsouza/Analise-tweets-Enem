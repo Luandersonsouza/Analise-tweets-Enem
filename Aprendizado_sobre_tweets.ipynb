{
  "nbformat": 4,
  "nbformat_minor": 0,
  "metadata": {
    "colab": {
      "provenance": []
    },
    "kernelspec": {
      "name": "python3",
      "display_name": "Python 3"
    },
    "language_info": {
      "name": "python"
    }
  },
  "cells": [
    {
      "cell_type": "code",
      "execution_count": null,
      "metadata": {
        "id": "KUJCanpWyU8C"
      },
      "outputs": [],
      "source": [
        "!pip install snscrape"
      ]
    },
    {
      "cell_type": "code",
      "source": [
        "import snscrape.modules.twitter as snstwitter\n",
        "import pandas as pd\n",
        "from PIL import Image\n"
      ],
      "metadata": {
        "id": "2tPG2Tr8MZm2"
      },
      "execution_count": null,
      "outputs": []
    },
    {
      "cell_type": "code",
      "source": [
        "maxT = 99\n",
        "i = 0\n",
        "tweets_list = []\n",
        "for tweet in snstwitter.TwitterSearchScraper('ENEM since:2022-11-01 until:2022-11-25').get_items():\n",
        "  if i > maxT:\n",
        "    break\n",
        "  tweets_list.append([tweet.date, tweet.url, tweet.username, tweet.content])\n",
        "  i+=1"
      ],
      "metadata": {
        "id": "4tGoAUZaORcA"
      },
      "execution_count": null,
      "outputs": []
    },
    {
      "cell_type": "code",
      "source": [
        "tweets_list"
      ],
      "metadata": {
        "id": "Shzt6JNWRw_2"
      },
      "execution_count": null,
      "outputs": []
    },
    {
      "cell_type": "code",
      "source": [
        "tweets_df = pd.DataFrame(tweets_list, columns = [' date', 'url', 'username', 'content'])"
      ],
      "metadata": {
        "id": "IwmDfc6NGxgz"
      },
      "execution_count": null,
      "outputs": []
    },
    {
      "cell_type": "code",
      "source": [
        "tweets_df"
      ],
      "metadata": {
        "id": "FuM_EhqaKNXI"
      },
      "execution_count": null,
      "outputs": []
    },
    {
      "cell_type": "code",
      "source": [
        "tweets_df.to_csv()"
      ],
      "metadata": {
        "id": "lGHXqd__ULZV"
      },
      "execution_count": null,
      "outputs": []
    },
    {
      "cell_type": "code",
      "source": [
        "import csv\n",
        "import nltk\n",
        "from nltk.tokenize import word_tokenize \n",
        "from wordcloud import WordCloud\n",
        "import numpy as np\n",
        "from PIL import Image\n",
        "import matplotlib.pyplot as plt"
      ],
      "metadata": {
        "id": "owMaSNHRSq_Y"
      },
      "execution_count": null,
      "outputs": []
    },
    {
      "cell_type": "code",
      "source": [
        "nltk.download('punkt')\n",
        "nltk.download('stopwords')"
      ],
      "metadata": {
        "id": "DRx7Zls6Svp_"
      },
      "execution_count": null,
      "outputs": []
    },
    {
      "cell_type": "code",
      "source": [
        "tweets_df"
      ],
      "metadata": {
        "id": "OH2ZLdl-UIR9"
      },
      "execution_count": null,
      "outputs": []
    },
    {
      "cell_type": "code",
      "source": [
        "stop_words = nltk.corpus.stopwords.words('portuguese')\n",
        "stop_words = stop_words + list([ ',','.','https', ':','!', '#', '@', '?', '/', 'O', 'vai', '|', '–','pra', 'a', 'e', '-'])"
      ],
      "metadata": {
        "id": "JkpTzZRPh7CS"
      },
      "execution_count": null,
      "outputs": []
    },
    {
      "cell_type": "code",
      "source": [
        "def remove_stopwords(x):\n",
        "  word_tokens = nltk.word_tokenize(x)\n",
        "  print(word_tokens)\n",
        "  filtered_sentence = ' '.join([w for w in word_tokens if not (w in stop_words or len(w)<4)]) \n",
        "  return filtered_sentence"
      ],
      "metadata": {
        "id": "QDczKdbglin5"
      },
      "execution_count": null,
      "outputs": []
    },
    {
      "cell_type": "code",
      "source": [
        "remove_stopwords('a conversa @ Monark , , Ciro reafirmou pretende')"
      ],
      "metadata": {
        "id": "6HTAbAF-lj9o"
      },
      "execution_count": null,
      "outputs": []
    },
    {
      "cell_type": "code",
      "source": [
        "tweets_df['filtered_text'] = tweets_df['content'].apply(lambda x: remove_stopwords(x))"
      ],
      "metadata": {
        "id": "BZbH6LcOlALn"
      },
      "execution_count": null,
      "outputs": []
    },
    {
      "cell_type": "code",
      "source": [
        "tweets_df['filtered_text']"
      ],
      "metadata": {
        "id": "bIBCWfIrlKY7"
      },
      "execution_count": null,
      "outputs": []
    },
    {
      "cell_type": "code",
      "source": [
        "pd.Series(' '.join(tweets_df['filtered_text'].str.lower()).split()).value_counts()[:20]"
      ],
      "metadata": {
        "id": "4kGPBPaJqvh8",
        "colab": {
          "base_uri": "https://localhost:8080/"
        },
        "outputId": "0748d6d1-a1fe-4a50-e834-7f48bbff6224"
      },
      "execution_count": null,
      "outputs": [
        {
          "output_type": "execute_result",
          "data": {
            "text/plain": [
              "enem          105\n",
              "fazer           9\n",
              "redação         8\n",
              "ainda           7\n",
              "prova           7\n",
              "agora           7\n",
              "nota            7\n",
              "acertos         7\n",
              "corrigir        7\n",
              "questão         6\n",
              "sobre           6\n",
              "gabarito        6\n",
              "quero           6\n",
              "coisa           5\n",
              "quase           5\n",
              "ofellipe98      5\n",
              "assim           5\n",
              "estudar         5\n",
              "desse           5\n",
              "melhor          4\n",
              "dtype: int64"
            ]
          },
          "metadata": {},
          "execution_count": 44
        }
      ]
    }
  ]
}
